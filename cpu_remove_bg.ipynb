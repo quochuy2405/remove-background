{
 "cells": [
  {
   "cell_type": "code",
   "execution_count": 1,
   "metadata": {},
   "outputs": [
    {
     "name": "stdout",
     "output_type": "stream",
     "text": [
      "Collecting rembg\n",
      "  Obtaining dependency information for rembg from https://files.pythonhosted.org/packages/85/a9/fbb32cb436815a07b0e066503e42a9a259025843f825cb08d9abcc7ae228/rembg-2.0.56-py3-none-any.whl.metadata\n",
      "  Downloading rembg-2.0.56-py3-none-any.whl.metadata (15 kB)\n",
      "Requirement already satisfied: jsonschema in c:\\users\\19521\\appdata\\local\\programs\\python\\python310\\lib\\site-packages (from rembg) (4.19.1)\n",
      "Requirement already satisfied: numpy in c:\\users\\19521\\appdata\\local\\programs\\python\\python310\\lib\\site-packages (from rembg) (1.24.2)\n",
      "Collecting onnxruntime (from rembg)\n",
      "  Obtaining dependency information for onnxruntime from https://files.pythonhosted.org/packages/e0/fa/f5b8a7dc6c0b7d059c073dcb192bfb02c86a6006c8735509eb59b9ea11f0/onnxruntime-1.17.1-cp310-cp310-win_amd64.whl.metadata\n",
      "  Downloading onnxruntime-1.17.1-cp310-cp310-win_amd64.whl.metadata (4.4 kB)\n",
      "Requirement already satisfied: opencv-python-headless in c:\\users\\19521\\appdata\\local\\programs\\python\\python310\\lib\\site-packages (from rembg) (4.8.1.78)\n",
      "Requirement already satisfied: pillow in c:\\users\\19521\\appdata\\local\\programs\\python\\python310\\lib\\site-packages (from rembg) (10.0.1)\n",
      "Requirement already satisfied: pooch in c:\\users\\19521\\appdata\\local\\programs\\python\\python310\\lib\\site-packages (from rembg) (1.7.0)\n",
      "Collecting pymatting (from rembg)\n",
      "  Obtaining dependency information for pymatting from https://files.pythonhosted.org/packages/46/aa/d7ff530c33c654263d8775ceb50a73f636fc65edbdf09e102c47a3be391b/PyMatting-1.1.12-py3-none-any.whl.metadata\n",
      "  Downloading PyMatting-1.1.12-py3-none-any.whl.metadata (7.4 kB)\n",
      "Requirement already satisfied: scikit-image in c:\\users\\19521\\appdata\\local\\programs\\python\\python310\\lib\\site-packages (from rembg) (0.21.0)\n",
      "Requirement already satisfied: scipy in c:\\users\\19521\\appdata\\local\\programs\\python\\python310\\lib\\site-packages (from rembg) (1.10.1)\n",
      "Requirement already satisfied: tqdm in c:\\users\\19521\\appdata\\local\\programs\\python\\python310\\lib\\site-packages (from rembg) (4.65.0)\n",
      "Requirement already satisfied: attrs>=22.2.0 in c:\\users\\19521\\appdata\\local\\programs\\python\\python310\\lib\\site-packages (from jsonschema->rembg) (23.1.0)\n",
      "Requirement already satisfied: jsonschema-specifications>=2023.03.6 in c:\\users\\19521\\appdata\\local\\programs\\python\\python310\\lib\\site-packages (from jsonschema->rembg) (2023.7.1)\n",
      "Requirement already satisfied: referencing>=0.28.4 in c:\\users\\19521\\appdata\\local\\programs\\python\\python310\\lib\\site-packages (from jsonschema->rembg) (0.30.2)\n",
      "Requirement already satisfied: rpds-py>=0.7.1 in c:\\users\\19521\\appdata\\local\\programs\\python\\python310\\lib\\site-packages (from jsonschema->rembg) (0.10.4)\n",
      "Requirement already satisfied: coloredlogs in c:\\users\\19521\\appdata\\local\\programs\\python\\python310\\lib\\site-packages (from onnxruntime->rembg) (15.0.1)\n",
      "Requirement already satisfied: flatbuffers in c:\\users\\19521\\appdata\\local\\programs\\python\\python310\\lib\\site-packages (from onnxruntime->rembg) (23.3.3)\n",
      "Requirement already satisfied: packaging in c:\\users\\19521\\appdata\\local\\programs\\python\\python310\\lib\\site-packages (from onnxruntime->rembg) (23.0)\n",
      "Requirement already satisfied: protobuf in c:\\users\\19521\\appdata\\local\\programs\\python\\python310\\lib\\site-packages (from onnxruntime->rembg) (3.20.0)\n",
      "Requirement already satisfied: sympy in c:\\users\\19521\\appdata\\local\\programs\\python\\python310\\lib\\site-packages (from onnxruntime->rembg) (1.11.1)\n",
      "Requirement already satisfied: platformdirs>=2.5.0 in c:\\users\\19521\\appdata\\roaming\\python\\python310\\site-packages (from pooch->rembg) (3.2.0)\n",
      "Requirement already satisfied: requests>=2.19.0 in c:\\users\\19521\\appdata\\local\\programs\\python\\python310\\lib\\site-packages (from pooch->rembg) (2.31.0)\n",
      "Requirement already satisfied: numba!=0.49.0 in c:\\users\\19521\\appdata\\local\\programs\\python\\python310\\lib\\site-packages (from pymatting->rembg) (0.57.1)\n",
      "Requirement already satisfied: networkx>=2.8 in c:\\users\\19521\\appdata\\local\\programs\\python\\python310\\lib\\site-packages (from scikit-image->rembg) (3.1)\n",
      "Requirement already satisfied: imageio>=2.27 in c:\\users\\19521\\appdata\\local\\programs\\python\\python310\\lib\\site-packages (from scikit-image->rembg) (2.31.1)\n",
      "Requirement already satisfied: tifffile>=2022.8.12 in c:\\users\\19521\\appdata\\local\\programs\\python\\python310\\lib\\site-packages (from scikit-image->rembg) (2023.7.10)\n",
      "Requirement already satisfied: PyWavelets>=1.1.1 in c:\\users\\19521\\appdata\\local\\programs\\python\\python310\\lib\\site-packages (from scikit-image->rembg) (1.4.1)\n",
      "Requirement already satisfied: lazy_loader>=0.2 in c:\\users\\19521\\appdata\\local\\programs\\python\\python310\\lib\\site-packages (from scikit-image->rembg) (0.3)\n",
      "Requirement already satisfied: colorama in c:\\users\\19521\\appdata\\roaming\\python\\python310\\site-packages (from tqdm->rembg) (0.4.6)\n",
      "Requirement already satisfied: llvmlite<0.41,>=0.40.0dev0 in c:\\users\\19521\\appdata\\local\\programs\\python\\python310\\lib\\site-packages (from numba!=0.49.0->pymatting->rembg) (0.40.1)\n",
      "Requirement already satisfied: charset-normalizer<4,>=2 in c:\\users\\19521\\appdata\\local\\programs\\python\\python310\\lib\\site-packages (from requests>=2.19.0->pooch->rembg) (3.1.0)\n",
      "Requirement already satisfied: idna<4,>=2.5 in c:\\users\\19521\\appdata\\roaming\\python\\python310\\site-packages (from requests>=2.19.0->pooch->rembg) (2.10)\n",
      "Requirement already satisfied: urllib3<3,>=1.21.1 in c:\\users\\19521\\appdata\\local\\programs\\python\\python310\\lib\\site-packages (from requests>=2.19.0->pooch->rembg) (1.26.15)\n",
      "Requirement already satisfied: certifi>=2017.4.17 in c:\\users\\19521\\appdata\\local\\programs\\python\\python310\\lib\\site-packages (from requests>=2.19.0->pooch->rembg) (2022.12.7)\n",
      "Requirement already satisfied: humanfriendly>=9.1 in c:\\users\\19521\\appdata\\local\\programs\\python\\python310\\lib\\site-packages (from coloredlogs->onnxruntime->rembg) (10.0)\n",
      "Requirement already satisfied: mpmath>=0.19 in c:\\users\\19521\\appdata\\local\\programs\\python\\python310\\lib\\site-packages (from sympy->onnxruntime->rembg) (1.3.0)\n",
      "Requirement already satisfied: pyreadline3 in c:\\users\\19521\\appdata\\local\\programs\\python\\python310\\lib\\site-packages (from humanfriendly>=9.1->coloredlogs->onnxruntime->rembg) (3.4.1)\n",
      "Downloading rembg-2.0.56-py3-none-any.whl (32 kB)\n",
      "Downloading onnxruntime-1.17.1-cp310-cp310-win_amd64.whl (5.6 MB)\n",
      "   ---------------------------------------- 0.0/5.6 MB ? eta -:--:--\n",
      "   ---------------------------------------- 0.1/5.6 MB 3.4 MB/s eta 0:00:02\n",
      "   - -------------------------------------- 0.2/5.6 MB 2.5 MB/s eta 0:00:03\n",
      "   -- ------------------------------------- 0.4/5.6 MB 3.2 MB/s eta 0:00:02\n",
      "   ---- ----------------------------------- 0.6/5.6 MB 3.1 MB/s eta 0:00:02\n",
      "   ----- ---------------------------------- 0.8/5.6 MB 3.3 MB/s eta 0:00:02\n",
      "   ------ --------------------------------- 0.9/5.6 MB 3.3 MB/s eta 0:00:02\n",
      "   ------- -------------------------------- 1.1/5.6 MB 3.5 MB/s eta 0:00:02\n",
      "   --------- ------------------------------ 1.3/5.6 MB 3.7 MB/s eta 0:00:02\n",
      "   ----------- ---------------------------- 1.6/5.6 MB 3.8 MB/s eta 0:00:02\n",
      "   ------------ --------------------------- 1.8/5.6 MB 3.9 MB/s eta 0:00:01\n",
      "   -------------- ------------------------- 2.0/5.6 MB 4.1 MB/s eta 0:00:01\n",
      "   ---------------- ----------------------- 2.2/5.6 MB 4.2 MB/s eta 0:00:01\n",
      "   ----------------- ---------------------- 2.4/5.6 MB 4.2 MB/s eta 0:00:01\n",
      "   ------------------- -------------------- 2.7/5.6 MB 4.4 MB/s eta 0:00:01\n",
      "   --------------------- ------------------ 3.0/5.6 MB 4.4 MB/s eta 0:00:01\n",
      "   ---------------------- ----------------- 3.2/5.6 MB 4.6 MB/s eta 0:00:01\n",
      "   ------------------------ --------------- 3.4/5.6 MB 4.5 MB/s eta 0:00:01\n",
      "   -------------------------- ------------- 3.6/5.6 MB 4.7 MB/s eta 0:00:01\n",
      "   --------------------------- ------------ 3.9/5.6 MB 4.8 MB/s eta 0:00:01\n",
      "   ------------------------------ --------- 4.2/5.6 MB 4.9 MB/s eta 0:00:01\n",
      "   ------------------------------- -------- 4.5/5.6 MB 4.8 MB/s eta 0:00:01\n",
      "   ----------------------------------- ---- 4.9/5.6 MB 5.1 MB/s eta 0:00:01\n",
      "   ------------------------------------- -- 5.3/5.6 MB 5.2 MB/s eta 0:00:01\n",
      "   ---------------------------------------  5.6/5.6 MB 5.3 MB/s eta 0:00:01\n",
      "   ---------------------------------------- 5.6/5.6 MB 5.2 MB/s eta 0:00:00\n",
      "Downloading PyMatting-1.1.12-py3-none-any.whl (52 kB)\n",
      "   ---------------------------------------- 0.0/53.0 kB ? eta -:--:--\n",
      "   ---------------------------------------- 53.0/53.0 kB ? eta 0:00:00\n",
      "Installing collected packages: pymatting, onnxruntime, rembg\n",
      "Successfully installed onnxruntime-1.17.1 pymatting-1.1.12 rembg-2.0.56\n"
     ]
    },
    {
     "name": "stderr",
     "output_type": "stream",
     "text": [
      "WARNING: Ignoring invalid distribution -illow (c:\\users\\19521\\appdata\\local\\programs\\python\\python310\\lib\\site-packages)\n",
      "WARNING: Ignoring invalid distribution -rotobuf (c:\\users\\19521\\appdata\\local\\programs\\python\\python310\\lib\\site-packages)\n",
      "WARNING: Ignoring invalid distribution -illow (c:\\users\\19521\\appdata\\local\\programs\\python\\python310\\lib\\site-packages)\n",
      "WARNING: Ignoring invalid distribution -rotobuf (c:\\users\\19521\\appdata\\local\\programs\\python\\python310\\lib\\site-packages)\n",
      "\n",
      "[notice] A new release of pip is available: 23.2.1 -> 24.0\n",
      "[notice] To update, run: python.exe -m pip install --upgrade pip\n"
     ]
    }
   ],
   "source": [
    "!pip install rembg"
   ]
  },
  {
   "cell_type": "code",
   "execution_count": 3,
   "metadata": {},
   "outputs": [],
   "source": [
    "from rembg import remove\n",
    "import cv2"
   ]
  },
  {
   "cell_type": "code",
   "execution_count": 7,
   "metadata": {},
   "outputs": [],
   "source": [
    "\n",
    "\n",
    "input_path = './girl_blue.png'\n",
    "output_path = 'output.png'\n",
    "\n",
    "input = cv2.imread(input_path)\n",
    "output = remove(input)\n",
    "cv2.imwrite(output_path, output)"
   ]
  }
 ],
 "metadata": {
  "kernelspec": {
   "display_name": "Python 3",
   "language": "python",
   "name": "python3"
  },
  "language_info": {
   "codemirror_mode": {
    "name": "ipython",
    "version": 3
   },
   "file_extension": ".py",
   "mimetype": "text/x-python",
   "name": "python",
   "nbconvert_exporter": "python",
   "pygments_lexer": "ipython3",
   "version": "3.10.10"
  }
 },
 "nbformat": 4,
 "nbformat_minor": 2
}
